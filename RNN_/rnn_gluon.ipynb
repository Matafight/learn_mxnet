{
 "cells": [
  {
   "cell_type": "code",
   "execution_count": 1,
   "metadata": {
    "collapsed": true
   },
   "outputs": [],
   "source": [
    "import mxnet.ndarray as nd\n",
    "import mxnet as mx\n",
    "import os\n",
    "import numpy as np\n",
    "from mxnet.gluon import nn,autograd\n",
    "import time\n",
    "import math"
   ]
  },
  {
   "cell_type": "code",
   "execution_count": 2,
   "metadata": {
    "collapsed": true
   },
   "outputs": [],
   "source": [
    "class Dictionary(object):\n",
    "    def __init__(self):\n",
    "        self.word_to_idx = {}\n",
    "        self.idx_to_word = []\n",
    "\n",
    "    def add_word(self, word):\n",
    "        if word not in self.word_to_idx:\n",
    "            self.idx_to_word.append(word)\n",
    "            self.word_to_idx[word] = len(self.idx_to_word) - 1\n",
    "        return self.word_to_idx[word]\n",
    "\n",
    "    def __len__(self):\n",
    "        return len(self.idx_to_word)"
   ]
  },
  {
   "cell_type": "code",
   "execution_count": 3,
   "metadata": {
    "collapsed": true
   },
   "outputs": [],
   "source": [
    "class Corpus(object):\n",
    "    def __init__(self, path):\n",
    "        self.dictionary = Dictionary()\n",
    "        self.train = self.tokenize(path + 'train.txt')\n",
    "        self.valid = self.tokenize(path + 'valid.txt')\n",
    "        self.test = self.tokenize(path + 'test.txt')\n",
    "\n",
    "    def tokenize(self, path):\n",
    "        assert os.path.exists(path)\n",
    "        # 将词语添加至词典。\n",
    "        with open(path, 'r') as f:\n",
    "            tokens = 0\n",
    "            for line in f:\n",
    "                words = line.split() + ['<eos>']\n",
    "                tokens += len(words)\n",
    "                for word in words:\n",
    "                    self.dictionary.add_word(word)\n",
    "        # 将文本转换成词语索引的序列（NDArray格式）。\n",
    "        with open(path, 'r') as f:\n",
    "            indices = np.zeros((tokens,), dtype='int32')\n",
    "            idx = 0\n",
    "            for line in f:\n",
    "                words = line.split() + ['<eos>']\n",
    "                for word in words:\n",
    "                    indices[idx] = self.dictionary.word_to_idx[word]\n",
    "                    idx += 1\n",
    "        return mx.nd.array(indices, dtype='int32')\n",
    "    "
   ]
  },
  {
   "cell_type": "code",
   "execution_count": 4,
   "metadata": {
    "collapsed": false
   },
   "outputs": [
    {
     "data": {
      "text/plain": [
       "10000"
      ]
     },
     "execution_count": 4,
     "metadata": {},
     "output_type": "execute_result"
    }
   ],
   "source": [
    "data = './input/ptb/ptb.'\n",
    "corpus = Corpus(data)\n",
    "vocab_size = len(corpus.dictionary)\n",
    "vocab_size\n"
   ]
  },
  {
   "cell_type": "code",
   "execution_count": 5,
   "metadata": {
    "collapsed": true
   },
   "outputs": [],
   "source": [
    "from mxnet import gluon\n",
    "from mxnet.gluon import rnn\n",
    "class RNNModel(gluon.Block):\n",
    "    def __init__(self,mode,vocab_size,embed_dim,hidden_dim,num_layers,dropout=0.5,**kwargs):\n",
    "        super(RNNModel,self).__init__(**kwargs)\n",
    "        with self.name_scope():\n",
    "            self.drop = nn.Dropout(dropout)\n",
    "            #self.encoder = nn.Embedding(input_dim=vocab_size,output_dim = embed_dim,weight_initializer=mx.init.Uniform(0,1))\n",
    "            self.encoder = nn.Embedding(input_dim=vocab_size,output_dim = embed_dim)\n",
    "            \n",
    "            \n",
    "            if mode == 'rnn_relu':\n",
    "                #pass\n",
    "                self.rnn = rnn.RNN(hidden_dim,num_layers,activation='relu',dropout=dropout,input_size = embed_dim)\n",
    "            elif mode == 'rnn_tanh':\n",
    "                self.rnn = rnn.RNN(hidden_dim,num_layers,dropout=dropout,input_size=embed_dim)\n",
    "            elif mode == 'lstm':\n",
    "                self.rnn = rnn.LSTM(hidden_dim,num_layers,dropout = dropout,input_size=embed_dim)\n",
    "            elif mode =='gru':\n",
    "                self.rnn = rnn.GRU(hidden_dim,num_layers,dropout=dropout,input_size = embed_dim)\n",
    "            else:\n",
    "                raise ValueError(\"Invalid mode %s.optiions are rnn_relu,rnn_tanh,lstm and gru\"%mode)\n",
    "            self.decoder = nn.Dense(vocab_size,in_units=hidden_dim)\n",
    "            self.hidden_dim = hidden_dim\n",
    "    def forward(self,inputs,state):\n",
    "        emb = self.drop(self.encoder(inputs))\n",
    "        output,state = self.rnn(emb,state)\n",
    "        output = self.drop(output)\n",
    "        decoded = self.decoder(output.reshape((-1,self.hidden_dim)))\n",
    "        return (decoded,state)\n",
    "    def begin_state(self,*args,**kwargs):\n",
    "        return self.rnn.begin_state(*args,**kwargs)\n",
    "    \n",
    "        "
   ]
  },
  {
   "cell_type": "code",
   "execution_count": 6,
   "metadata": {
    "collapsed": true
   },
   "outputs": [],
   "source": [
    "# 定义参数\n",
    "model_name = 'rnn_relu'\n",
    "embed_dim = 100\n",
    "hidden_dim = 100\n",
    "num_layers = 2\n",
    "lr = 1.0\n",
    "clipping_norm = 0.2\n",
    "epochs=1\n",
    "batch_size = 32\n",
    "num_steps = 5\n",
    "dropout_rate = 0.2\n",
    "eval_period = 500\n"
   ]
  },
  {
   "cell_type": "code",
   "execution_count": 7,
   "metadata": {
    "collapsed": false
   },
   "outputs": [],
   "source": [
    "#批量采样\n",
    "import sys\n",
    "sys.path.append('..')\n",
    "import util\n",
    "import random\n",
    "context = util.try_gpu()\n",
    "#针对需要embedding数据的批量采样\n",
    "def batchify(data,batch_size):\n",
    "    num_batch = data.shape[0]//batch_size\n",
    "    data = data[:num_batch*batch_size]\n",
    "    data = data.reshape((num_batch,batch_size))\n",
    "    return data\n",
    "\n",
    "train_data = batchify(corpus.train, batch_size).as_in_context(context)\n",
    "val_data = batchify(corpus.valid, batch_size).as_in_context(context)\n",
    "test_data = batchify(corpus.test, batch_size).as_in_context(context)\n",
    "\n",
    "model = RNNModel(model_name, vocab_size, embed_dim, hidden_dim,\n",
    "                       num_layers, dropout_rate)\n",
    "model.collect_params().initialize(mx.init.Xavier(), ctx=context)\n",
    "trainer = gluon.Trainer(model.collect_params(), 'sgd',\n",
    "                        {'learning_rate': lr, 'momentum': 0, 'wd': 0})\n",
    "loss = gluon.loss.SoftmaxCrossEntropyLoss()\n",
    "\n",
    "def get_batch(source, i):\n",
    "    seq_len = min(num_steps, source.shape[0] - 1 - i)\n",
    "    data = source[i : i + seq_len]\n",
    "    target = source[i + 1 : i + 1 + seq_len]\n",
    "    return data, target.reshape((-1,))\n",
    "    "
   ]
  },
  {
   "cell_type": "code",
   "execution_count": 8,
   "metadata": {
    "collapsed": true
   },
   "outputs": [],
   "source": [
    "def model_eval(data_source):\n",
    "    total_L = 0.0\n",
    "    ntotal = 0\n",
    "    hidden = model.begin_state(func = mx.nd.zeros, batch_size = batch_size,\n",
    "                               ctx=context)\n",
    "    for i in range(0, data_source.shape[0] - 1, num_steps):\n",
    "        data, target = get_batch(data_source, i)\n",
    "        output, hidden = model(data, hidden)\n",
    "        L = loss(output, target)\n",
    "        total_L += mx.nd.sum(L).asscalar()\n",
    "        ntotal += L.size\n",
    "    return total_L / ntotal"
   ]
  },
  {
   "cell_type": "code",
   "execution_count": 9,
   "metadata": {
    "collapsed": true
   },
   "outputs": [],
   "source": [
    "def detach(state):\n",
    "    if isinstance(state, (tuple, list)):\n",
    "        state = [i.detach() for i in state]\n",
    "    else:\n",
    "        state = state.detach()\n",
    "    return state"
   ]
  },
  {
   "cell_type": "code",
   "execution_count": 10,
   "metadata": {
    "collapsed": true
   },
   "outputs": [],
   "source": [
    "def train():\n",
    "    for epoch in range(epochs):\n",
    "        total_L = 0.0\n",
    "        start_time = time.time()\n",
    "        hidden = model.begin_state(func = mx.nd.zeros, batch_size = batch_size,\n",
    "                                   ctx = context)\n",
    "        for ibatch, i in enumerate(range(0, train_data.shape[0] - 1, num_steps)):\n",
    "            data, target = get_batch(train_data, i)\n",
    "            #print(data.shape)\n",
    "            # 从计算图分离隐含状态。\n",
    "            hidden = detach(hidden)\n",
    "            with autograd.record():\n",
    "                output, hidden = model(data, hidden)\n",
    "                L = loss(output, target)\n",
    "                L.backward()\n",
    "\n",
    "            grads = [i.grad(context) for i in model.collect_params().values()]\n",
    "            # 梯度裁剪。需要注意的是，这里的梯度是整个批量的梯度。\n",
    "            # 因此我们将clipping_norm乘以num_steps和batch_size。\n",
    "            gluon.utils.clip_global_norm(grads,\n",
    "                                         clipping_norm * num_steps * batch_size)\n",
    "\n",
    "            trainer.step(batch_size)\n",
    "            total_L += mx.nd.sum(L).asscalar()\n",
    "\n",
    "            if ibatch % eval_period == 0 and ibatch > 0:\n",
    "                cur_L = total_L / num_steps / batch_size / eval_period\n",
    "                print('[Epoch %d Batch %d] loss %.2f, perplexity %.2f' % (\n",
    "                    epoch + 1, ibatch, cur_L, math.exp(cur_L)))\n",
    "                total_L = 0.0\n",
    "\n",
    "        val_L = model_eval(val_data)\n",
    "\n",
    "        print('[Epoch %d] time cost %.2fs, validation loss %.2f, validation '\n",
    "              'perplexity %.2f' % (epoch + 1, time.time() - start_time, val_L,\n",
    "                                   math.exp(val_L)))"
   ]
  },
  {
   "cell_type": "code",
   "execution_count": 11,
   "metadata": {
    "collapsed": false
   },
   "outputs": [
    {
     "name": "stdout",
     "output_type": "stream",
     "text": [
      "(5, 32, 100)\n",
      "(5, 32, 100)\n",
      "(5, 32, 100)\n",
      "(5, 32, 100)\n",
      "(5, 32, 100)\n",
      "(5, 32, 100)\n",
      "(5, 32, 100)\n",
      "(5, 32, 100)\n",
      "(5, 32, 100)\n",
      "(5, 32, 100)\n",
      "(5, 32, 100)\n",
      "(5, 32, 100)\n",
      "(5, 32, 100)\n",
      "(5, 32, 100)\n",
      "(5, 32, 100)\n",
      "(5, 32, 100)\n",
      "(5, 32, 100)\n",
      "(5, 32, 100)\n",
      "(5, 32, 100)\n",
      "(5, 32, 100)\n",
      "(5, 32, 100)\n",
      "(5, 32, 100)\n",
      "(5, 32, 100)\n",
      "(5, 32, 100)\n",
      "(5, 32, 100)\n",
      "(5, 32, 100)\n",
      "(5, 32, 100)\n",
      "(5, 32, 100)\n",
      "(5, 32, 100)\n",
      "(5, 32, 100)\n",
      "(5, 32, 100)\n",
      "(5, 32, 100)\n",
      "(5, 32, 100)\n",
      "(5, 32, 100)\n",
      "(5, 32, 100)\n",
      "(5, 32, 100)\n",
      "(5, 32, 100)\n",
      "(5, 32, 100)\n",
      "(5, 32, 100)\n",
      "(5, 32, 100)\n",
      "(5, 32, 100)\n",
      "(5, 32, 100)\n",
      "(5, 32, 100)\n",
      "(5, 32, 100)\n",
      "(5, 32, 100)\n",
      "(5, 32, 100)\n",
      "(5, 32, 100)\n",
      "(5, 32, 100)\n",
      "(5, 32, 100)\n",
      "(5, 32, 100)\n",
      "(5, 32, 100)\n",
      "(5, 32, 100)\n",
      "(5, 32, 100)\n",
      "(5, 32, 100)\n",
      "(5, 32, 100)\n",
      "(5, 32, 100)\n",
      "(5, 32, 100)\n",
      "(5, 32, 100)\n",
      "(5, 32, 100)\n",
      "(5, 32, 100)\n",
      "(5, 32, 100)\n",
      "(5, 32, 100)\n",
      "(5, 32, 100)\n",
      "(5, 32, 100)\n",
      "(5, 32, 100)\n",
      "(5, 32, 100)\n",
      "(5, 32, 100)\n",
      "(5, 32, 100)\n",
      "(5, 32, 100)\n",
      "(5, 32, 100)\n",
      "(5, 32, 100)\n",
      "(5, 32, 100)\n",
      "(5, 32, 100)\n",
      "(5, 32, 100)\n",
      "(5, 32, 100)\n",
      "(5, 32, 100)\n",
      "(5, 32, 100)\n",
      "(5, 32, 100)\n",
      "(5, 32, 100)\n",
      "(5, 32, 100)\n",
      "(5, 32, 100)\n",
      "(5, 32, 100)\n",
      "(5, 32, 100)\n",
      "(5, 32, 100)\n",
      "(5, 32, 100)\n",
      "(5, 32, 100)\n",
      "(5, 32, 100)\n",
      "(5, 32, 100)\n",
      "(5, 32, 100)\n"
     ]
    },
    {
     "ename": "KeyboardInterrupt",
     "evalue": "",
     "output_type": "error",
     "traceback": [
      "\u001b[0;31m---------------------------------------------------------------------------\u001b[0m",
      "\u001b[0;31mKeyboardInterrupt\u001b[0m                         Traceback (most recent call last)",
      "\u001b[0;32m<ipython-input-11-dcb68c7b09b8>\u001b[0m in \u001b[0;36m<module>\u001b[0;34m()\u001b[0m\n\u001b[0;32m----> 1\u001b[0;31m \u001b[0mtrain\u001b[0m\u001b[1;33m(\u001b[0m\u001b[1;33m)\u001b[0m\u001b[1;33m\u001b[0m\u001b[0m\n\u001b[0m\u001b[1;32m      2\u001b[0m \u001b[0mtest_L\u001b[0m \u001b[1;33m=\u001b[0m \u001b[0mmodel_eval\u001b[0m\u001b[1;33m(\u001b[0m\u001b[0mtest_data\u001b[0m\u001b[1;33m)\u001b[0m\u001b[1;33m\u001b[0m\u001b[0m\n\u001b[1;32m      3\u001b[0m \u001b[0mprint\u001b[0m\u001b[1;33m(\u001b[0m\u001b[1;34m'Test loss %.2f, test perplexity %.2f'\u001b[0m \u001b[1;33m%\u001b[0m \u001b[1;33m(\u001b[0m\u001b[0mtest_L\u001b[0m\u001b[1;33m,\u001b[0m \u001b[0mmath\u001b[0m\u001b[1;33m.\u001b[0m\u001b[0mexp\u001b[0m\u001b[1;33m(\u001b[0m\u001b[0mtest_L\u001b[0m\u001b[1;33m)\u001b[0m\u001b[1;33m)\u001b[0m\u001b[1;33m)\u001b[0m\u001b[1;33m\u001b[0m\u001b[0m\n",
      "\u001b[0;32m<ipython-input-10-42cd5f02b765>\u001b[0m in \u001b[0;36mtrain\u001b[0;34m()\u001b[0m\n\u001b[1;32m     13\u001b[0m                 \u001b[0moutput\u001b[0m\u001b[1;33m,\u001b[0m \u001b[0mhidden\u001b[0m \u001b[1;33m=\u001b[0m \u001b[0mmodel\u001b[0m\u001b[1;33m(\u001b[0m\u001b[0mdata\u001b[0m\u001b[1;33m,\u001b[0m \u001b[0mhidden\u001b[0m\u001b[1;33m)\u001b[0m\u001b[1;33m\u001b[0m\u001b[0m\n\u001b[1;32m     14\u001b[0m                 \u001b[0mL\u001b[0m \u001b[1;33m=\u001b[0m \u001b[0mloss\u001b[0m\u001b[1;33m(\u001b[0m\u001b[0moutput\u001b[0m\u001b[1;33m,\u001b[0m \u001b[0mtarget\u001b[0m\u001b[1;33m)\u001b[0m\u001b[1;33m\u001b[0m\u001b[0m\n\u001b[0;32m---> 15\u001b[0;31m                 \u001b[0mL\u001b[0m\u001b[1;33m.\u001b[0m\u001b[0mbackward\u001b[0m\u001b[1;33m(\u001b[0m\u001b[1;33m)\u001b[0m\u001b[1;33m\u001b[0m\u001b[0m\n\u001b[0m\u001b[1;32m     16\u001b[0m \u001b[1;33m\u001b[0m\u001b[0m\n\u001b[1;32m     17\u001b[0m             \u001b[0mgrads\u001b[0m \u001b[1;33m=\u001b[0m \u001b[1;33m[\u001b[0m\u001b[0mi\u001b[0m\u001b[1;33m.\u001b[0m\u001b[0mgrad\u001b[0m\u001b[1;33m(\u001b[0m\u001b[0mcontext\u001b[0m\u001b[1;33m)\u001b[0m \u001b[1;32mfor\u001b[0m \u001b[0mi\u001b[0m \u001b[1;32min\u001b[0m \u001b[0mmodel\u001b[0m\u001b[1;33m.\u001b[0m\u001b[0mcollect_params\u001b[0m\u001b[1;33m(\u001b[0m\u001b[1;33m)\u001b[0m\u001b[1;33m.\u001b[0m\u001b[0mvalues\u001b[0m\u001b[1;33m(\u001b[0m\u001b[1;33m)\u001b[0m\u001b[1;33m]\u001b[0m\u001b[1;33m\u001b[0m\u001b[0m\n",
      "\u001b[0;32mC:\\ProgramData\\Anaconda3\\lib\\site-packages\\mxnet-0.11.1-py3.6.egg\\mxnet\\ndarray\\ndarray.py\u001b[0m in \u001b[0;36mbackward\u001b[0;34m(self, out_grad, retain_graph, train_mode)\u001b[0m\n\u001b[1;32m   1464\u001b[0m             \u001b[0mc_array\u001b[0m\u001b[1;33m(\u001b[0m\u001b[0mNDArrayHandle\u001b[0m\u001b[1;33m,\u001b[0m \u001b[0mograd_handles\u001b[0m\u001b[1;33m)\u001b[0m\u001b[1;33m,\u001b[0m\u001b[1;33m\u001b[0m\u001b[0m\n\u001b[1;32m   1465\u001b[0m             \u001b[0mctypes\u001b[0m\u001b[1;33m.\u001b[0m\u001b[0mc_int\u001b[0m\u001b[1;33m(\u001b[0m\u001b[0mretain_graph\u001b[0m\u001b[1;33m)\u001b[0m\u001b[1;33m,\u001b[0m\u001b[1;33m\u001b[0m\u001b[0m\n\u001b[0;32m-> 1466\u001b[0;31m             ctypes.c_int(train_mode)))\n\u001b[0m\u001b[1;32m   1467\u001b[0m \u001b[1;33m\u001b[0m\u001b[0m\n\u001b[1;32m   1468\u001b[0m     \u001b[1;32mdef\u001b[0m \u001b[0mtostype\u001b[0m\u001b[1;33m(\u001b[0m\u001b[0mself\u001b[0m\u001b[1;33m,\u001b[0m \u001b[0mstype\u001b[0m\u001b[1;33m)\u001b[0m\u001b[1;33m:\u001b[0m\u001b[1;33m\u001b[0m\u001b[0m\n",
      "\u001b[0;31mKeyboardInterrupt\u001b[0m: "
     ]
    }
   ],
   "source": [
    "train()\n",
    "test_L = model_eval(test_data)\n",
    "print('Test loss %.2f, test perplexity %.2f' % (test_L, math.exp(test_L)))"
   ]
  },
  {
   "cell_type": "code",
   "execution_count": null,
   "metadata": {
    "collapsed": true
   },
   "outputs": [],
   "source": [
    "from mxnet.gluon import nn\n",
    "nn.Embedding??\n"
   ]
  },
  {
   "cell_type": "code",
   "execution_count": null,
   "metadata": {
    "collapsed": false
   },
   "outputs": [],
   "source": [
    "from mxnet.gluon import rnn\n",
    "rnn._RNNLayer??"
   ]
  },
  {
   "cell_type": "code",
   "execution_count": null,
   "metadata": {
    "collapsed": true
   },
   "outputs": [],
   "source": []
  }
 ],
 "metadata": {
  "kernelspec": {
   "display_name": "Python 3",
   "language": "python",
   "name": "python3"
  },
  "language_info": {
   "codemirror_mode": {
    "name": "ipython",
    "version": 3
   },
   "file_extension": ".py",
   "mimetype": "text/x-python",
   "name": "python",
   "nbconvert_exporter": "python",
   "pygments_lexer": "ipython3",
   "version": "3.6.0"
  }
 },
 "nbformat": 4,
 "nbformat_minor": 2
}
