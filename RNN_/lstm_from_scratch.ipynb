{
 "cells": [
  {
   "cell_type": "code",
   "execution_count": 1,
   "metadata": {
    "collapsed": true
   },
   "outputs": [],
   "source": [
    "from rnn_scratch import load_data,train_and_predict\n",
    "import sys\n",
    "sys.path.append('..')\n",
    "import util\n",
    "import mxnet as mx\n",
    "import mxnet.ndarray as nd\n"
   ]
  },
  {
   "cell_type": "code",
   "execution_count": 2,
   "metadata": {
    "collapsed": false
   },
   "outputs": [
    {
     "name": "stdout",
     "output_type": "stream",
     "text": [
      "64925\n"
     ]
    }
   ],
   "source": [
    "content,idx_to_char,char_to_idx,idx_corpus,vocab_size = load_data()"
   ]
  },
  {
   "cell_type": "code",
   "execution_count": 3,
   "metadata": {
    "collapsed": true
   },
   "outputs": [],
   "source": [
    "def get_params(input_dim,hidden_dim,output_dim,ctx=mx.cpu()):\n",
    "    #input gate, forget gate and output gate\n",
    "    #and candidate cell\n",
    "    std = 0.01\n",
    "    #input gate\n",
    "    # I = sigmoid(XW_xi + HW_hi + b_i)\n",
    "    W_xi = nd.random_normal(scale=std,shape=(input_dim,hidden_dim),ctx=ctx)\n",
    "    W_hi = nd.random_normal(scale =std,shape=(hidden_dim,hidden_dim),ctx=ctx)\n",
    "    b_i = nd.zeros(hidden_dim,ctx=ctx)\n",
    "    \n",
    "    # forget gate\n",
    "    # F = sigmoid(XW_xf + H W_hf + b_f)\n",
    "    W_xf = nd.random_normal(scale=std,shape=(input_dim,hidden_dim),ctx=ctx)\n",
    "    W_hf = nd.random_normal(scale =std,shape=(hidden_dim,hidden_dim),ctx=ctx)\n",
    "    b_f = nd.zeros(hidden_dim,ctx=ctx)\n",
    "    \n",
    "    # output gate\n",
    "    # O = sigmoid(XW_xo + H W_ho +b_o)\n",
    "    W_xo = nd.random_normal(scale=std,shape=(input_dim,hidden_dim),ctx=ctx)\n",
    "    W_ho = nd.random_normal(scale =std,shape=(hidden_dim,hidden_dim),ctx=ctx)\n",
    "    b_o = nd.zeros(hidden_dim,ctx=ctx)\n",
    "    \n",
    "    #candidate cell\n",
    "    W_xc = nd.random_normal(scale=std,shape=(input_dim,hidden_dim),ctx=ctx)\n",
    "    W_hc = nd.random_normal(scale=std,shape=(hidden_dim,hidden_dim),ctx=ctx)\n",
    "    b_c  = nd.zeros(hidden_dim,ctx=ctx)\n",
    "    \n",
    "    #output layer\n",
    "    W_hy = nd.random_normal(scale = std,shape=(hidden_dim,output_dim),ctx=ctx)\n",
    "    b_y = nd.zeros(output_dim,ctx=ctx)\n",
    "    \n",
    "    params = [W_xi,W_hi,b_i,W_xf,W_hf,b_f,W_xo,W_ho,b_o,W_xc,W_hc,b_c,W_hy,b_y]\n",
    "    for param in params:\n",
    "        param.attach_grad()\n",
    "    return params\n",
    "\n",
    "\n",
    "    \n",
    "    \n",
    "    "
   ]
  },
  {
   "cell_type": "code",
   "execution_count": 4,
   "metadata": {
    "collapsed": true
   },
   "outputs": [],
   "source": [
    "\n",
    "def lstm(inputs,state_h,*params):\n",
    "    \n",
    "    W_xi,W_hi,b_i,W_xf,W_hf,b_f,W_xo,W_ho,b_o,W_xc,W_hc,b_c,W_hy,b_y = params\n",
    "    H = state_h\n",
    "    #must initialzie C\n",
    "    C = nd.zeros_like(H)\n",
    "    outputs= []\n",
    "    for x in inputs:\n",
    "        #input gate\n",
    "        I = nd.sigmoid(nd.dot(x,W_xi)+nd.dot(H,W_hi)+b_i)\n",
    "        #forget gate\n",
    "        F = nd.sigmoid(nd.dot(x,W_xf)+nd.dot(H,W_hf)+b_f)\n",
    "        #output gate\n",
    "        O = nd.sigmoid(nd.dot(x,W_xo)+nd.dot(H,W_ho)+b_o)\n",
    "        \n",
    "        #candidate cell\n",
    "        C_tilde = nd.tanh(nd.dot(x,W_xc)+nd.dot(H,W_hc)+b_c)\n",
    "        C = nd.multiply(F,C) + nd.multiply(I,C_tilde)\n",
    "        #output \n",
    "        H = nd.multiply(O,nd.tanh(C))\n",
    "        Y = nd.dot(H,W_hy)+b_y\n",
    "        outputs.append(Y)\n",
    "    return (outputs,H)\n",
    "        "
   ]
  },
  {
   "cell_type": "code",
   "execution_count": 5,
   "metadata": {
    "collapsed": false
   },
   "outputs": [
    {
     "name": "stdout",
     "output_type": "stream",
     "text": [
      "Epoch：0  Prelexity: 1307.813003\n",
      "Epoch：1  Prelexity: 1028.433280\n",
      "Epoch：2  Prelexity: 823.420239\n",
      "Epoch：3  Prelexity: 684.833244\n",
      "Epoch：4  Prelexity: 591.687609\n",
      "Epoch：5  Prelexity: 495.442555\n",
      "Epoch：6  Prelexity: 431.281030\n",
      "Epoch：7  Prelexity: 396.405803\n",
      "Epoch：8  Prelexity: 375.293504\n",
      "Epoch：9  Prelexity: 368.671274\n",
      "Epoch：10  Prelexity: 360.565578\n",
      "Epoch：11  Prelexity: 357.448800\n",
      "Epoch：12  Prelexity: 354.670795\n",
      "Epoch：13  Prelexity: 353.080595\n",
      "Epoch：14  Prelexity: 352.576370\n",
      "Epoch：15  Prelexity: 353.321299\n",
      "Epoch：16  Prelexity: 349.141771\n",
      "Epoch：17  Prelexity: 348.216143\n",
      "Epoch：18  Prelexity: 350.054345\n",
      "Epoch：19  Prelexity: 348.543144\n",
      "Epoch：20  Prelexity: 345.701468\n",
      "Epoch：21  Prelexity: 346.513189\n",
      "Epoch：22  Prelexity: 345.319256\n",
      "Epoch：23  Prelexity: 349.618274\n",
      "Epoch：24  Prelexity: 347.758201\n",
      "Epoch：25  Prelexity: 344.392343\n",
      "Epoch：26  Prelexity: 343.974916\n",
      "Epoch：27  Prelexity: 341.746509\n",
      "Epoch：28  Prelexity: 342.652698\n",
      "Epoch：29  Prelexity: 345.023115\n",
      "Epoch：30  Prelexity: 341.112376\n",
      "Epoch：31  Prelexity: 344.187450\n",
      "Epoch：32  Prelexity: 341.527345\n",
      "Epoch：33  Prelexity: 343.420744\n",
      "Epoch：34  Prelexity: 339.980146\n",
      "Epoch：35  Prelexity: 341.150615\n",
      "Epoch：36  Prelexity: 341.378606\n",
      "Epoch：37  Prelexity: 343.892623\n",
      "Epoch：38  Prelexity: 342.980904\n",
      "Epoch：39  Prelexity: 339.537989\n"
     ]
    }
   ],
   "source": [
    "batch_size = 32\n",
    "num_epochs= 40\n",
    "num_steps=35\n",
    "hidden_dim = 256\n",
    "learning_rate = 0.02\n",
    "ctx = util.try_gpu()\n",
    "\n",
    "\n",
    "\n",
    "train_and_predict(rnn_network=lstm,get_params=get_params,num_steps=num_steps,idx_corpus=idx_corpus,\n",
    "                 num_epochs = num_epochs,batch_size = batch_size,vocab_size = vocab_size,hidden_dim = hidden_dim,\n",
    "                 learning_rate = learning_rate,ctx=ctx)"
   ]
  },
  {
   "cell_type": "code",
   "execution_count": null,
   "metadata": {
    "collapsed": true
   },
   "outputs": [],
   "source": []
  }
 ],
 "metadata": {
  "kernelspec": {
   "display_name": "Python 3",
   "language": "python",
   "name": "python3"
  },
  "language_info": {
   "codemirror_mode": {
    "name": "ipython",
    "version": 3
   },
   "file_extension": ".py",
   "mimetype": "text/x-python",
   "name": "python",
   "nbconvert_exporter": "python",
   "pygments_lexer": "ipython3",
   "version": "3.6.0"
  }
 },
 "nbformat": 4,
 "nbformat_minor": 2
}
