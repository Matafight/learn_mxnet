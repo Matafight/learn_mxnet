{
 "cells": [
  {
   "cell_type": "code",
   "execution_count": 1,
   "metadata": {
    "collapsed": false
   },
   "outputs": [],
   "source": [
    "from rnn_scratch import load_data,grad_clipping,train_and_predict\n",
    "import sys\n",
    "sys.path.append('..')\n",
    "import util\n"
   ]
  },
  {
   "cell_type": "code",
   "execution_count": 2,
   "metadata": {
    "collapsed": false
   },
   "outputs": [
    {
     "name": "stdout",
     "output_type": "stream",
     "text": [
      "64925\n"
     ]
    }
   ],
   "source": [
    "content,idx_to_char,char_to_idx,idx_corpus,vocab_size = load_data()"
   ]
  },
  {
   "cell_type": "code",
   "execution_count": 3,
   "metadata": {
    "collapsed": true
   },
   "outputs": [],
   "source": [
    "ctx = util.try_gpu()"
   ]
  },
  {
   "cell_type": "code",
   "execution_count": 4,
   "metadata": {
    "collapsed": true
   },
   "outputs": [],
   "source": [
    "import mxnet.ndarray as nd\n",
    "import mxnet as mx\n",
    "def get_params(input_dim,hidden_dim,output_dim,ctx=mx.cpu()):\n",
    "    # reset gate, update date\n",
    "    std = .01\n",
    "    W_xr = nd.random_normal(scale = std,shape=(input_dim,hidden_dim),ctx=ctx)\n",
    "    W_hr = nd.random_normal(scale =std,shape=(hidden_dim,hidden_dim),ctx=ctx)\n",
    "    b_r = nd.zeros(hidden_dim,ctx=ctx)\n",
    "    #update gate\n",
    "    W_xz = nd.random_normal(scale = std,shape=(input_dim,hidden_dim),ctx=ctx)\n",
    "    W_hz = nd.random_normal(scale = std,shape=(hidden_dim,hidden_dim),ctx=ctx)\n",
    "    b_z = nd.zeros(hidden_dim,ctx=ctx)\n",
    "    \n",
    "    #candidate hidden state\n",
    "    W_xh = nd.random_normal(scale = std,shape=(input_dim,hidden_dim),ctx=ctx)\n",
    "    W_hh = nd.random_normal(scale = std,shape=(hidden_dim,hidden_dim),ctx=ctx)\n",
    "    b_h = nd.zeros(hidden_dim,ctx=ctx)\n",
    "    \n",
    "    #output gate\n",
    "    W_hy = nd.random_normal(scale = std,shape=(hidden_dim,output_dim),ctx=ctx)\n",
    "    b_y = nd.zeros(output_dim,ctx=ctx)\n",
    "    \n",
    "    params = [W_xr,W_hr,b_r,W_xz,W_hz,b_z,W_xh,W_hh,b_h,W_hy,b_y]\n",
    "    for param in params:\n",
    "        param.attach_grad()\n",
    "    return params\n",
    "\n",
    "def gated_rnn(inputs,states,*params):\n",
    "    # R = sigmoid(XW_xr + H*W_hr +  b_r), output dim: n*hidden_dim\n",
    "    # Z = sigmoid(X*W_xz + H*W_hz + b_z), output dim: n*hidden_dim\n",
    "    # H_tilde = tanh(X*W_xh + R\\codt H *W_hh+b_h) ,output dim: n*hidden_dim\n",
    "    # H = Z \\cdot H + （1-Z) \\cdot H_tilde, output dim: n*hidden_dim\n",
    "    W_xr,W_hr,b_r,W_xz,W_hz,b_z,W_xh,W_hh,b_h,W_hy,b_y = params\n",
    "    outputs = []\n",
    "    H = states\n",
    "    for x in inputs:\n",
    "        R = nd.sigmoid(nd.dot(x,W_xr)+nd.dot(H,W_hr)+b_r)\n",
    "        Z = nd.sigmoid(nd.dot(x,W_xz)+nd.dot(H,W_hz)+b_z)\n",
    "        H_tilde = nd.tanh(nd.dot(x,W_xh)+ nd.multiply(R,nd.dot(H,W_hh)) + b_h)\n",
    "        H = nd.multiply(Z,H)+ nd.multiply(1-Z,H_tilde)\n",
    "        # output\n",
    "        #out = nd.tanh(nd.dot(H,W_hy)+b_y)\n",
    "        out =nd.dot(H,W_hy)+b_y\n",
    "        outputs.append(out)\n",
    "    return  outputs,H\n",
    "\n",
    "\n",
    "    \n",
    "    "
   ]
  },
  {
   "cell_type": "code",
   "execution_count": 5,
   "metadata": {
    "collapsed": false
   },
   "outputs": [
    {
     "name": "stdout",
     "output_type": "stream",
     "text": [
      "Epoch：0  Prelexity: 693.012503\n",
      "Epoch：1  Prelexity: 454.839552\n",
      "Epoch：2  Prelexity: 416.882003\n",
      "Epoch：3  Prelexity: 393.302853\n",
      "Epoch：4  Prelexity: 382.767116\n",
      "Epoch：5  Prelexity: 372.594198\n",
      "Epoch：6  Prelexity: 366.150443\n",
      "Epoch：7  Prelexity: 360.103871\n",
      "Epoch：8  Prelexity: 350.509244\n",
      "Epoch：9  Prelexity: 342.276332\n",
      "Epoch：10  Prelexity: 336.862112\n",
      "Epoch：11  Prelexity: 331.177544\n",
      "Epoch：12  Prelexity: 326.701156\n",
      "Epoch：13  Prelexity: 317.123575\n",
      "Epoch：14  Prelexity: 312.108437\n",
      "Epoch：15  Prelexity: 303.806393\n",
      "Epoch：16  Prelexity: 295.238410\n",
      "Epoch：17  Prelexity: 284.992714\n",
      "Epoch：18  Prelexity: 276.522217\n",
      "Epoch：19  Prelexity: 268.442386\n"
     ]
    }
   ],
   "source": [
    "# setup parameters\n",
    "batch_size = 32\n",
    "num_steps = 35\n",
    "input_dim = vocab_size\n",
    "output_dim = vocab_size\n",
    "hidden_dim = 256\n",
    "learning_rate = 0.2\n",
    "num_epochs = 20\n",
    "train_and_predict(gated_rnn,get_params=get_params,num_steps = num_steps,idx_corpus = idx_corpus,num_epochs = num_epochs,batch_size=batch_size,\n",
    "                 vocab_size = vocab_size,hidden_dim = hidden_dim,learning_rate = learning_rate,ctx= ctx)\n"
   ]
  },
  {
   "cell_type": "code",
   "execution_count": 6,
   "metadata": {
    "collapsed": false
   },
   "outputs": [
    {
     "data": {
      "text/plain": [
       "1465"
      ]
     },
     "execution_count": 6,
     "metadata": {},
     "output_type": "execute_result"
    }
   ],
   "source": [
    "vocab_size"
   ]
  },
  {
   "cell_type": "code",
   "execution_count": null,
   "metadata": {
    "collapsed": true
   },
   "outputs": [],
   "source": []
  }
 ],
 "metadata": {
  "kernelspec": {
   "display_name": "Python 3",
   "language": "python",
   "name": "python3"
  },
  "language_info": {
   "codemirror_mode": {
    "name": "ipython",
    "version": 3
   },
   "file_extension": ".py",
   "mimetype": "text/x-python",
   "name": "python",
   "nbconvert_exporter": "python",
   "pygments_lexer": "ipython3",
   "version": "3.6.0"
  }
 },
 "nbformat": 4,
 "nbformat_minor": 2
}
