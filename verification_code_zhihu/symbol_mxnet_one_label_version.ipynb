{
 "cells": [
  {
   "cell_type": "code",
   "execution_count": 2,
   "metadata": {
    "collapsed": true
   },
   "outputs": [],
   "source": [
    "import mxnet as mx\n",
    "# construct a cnn\n",
    "net = mx.sym.Variable('data')\n",
    "net = mx.sym.Convolution(data = net,kernel=(2,2),stride=(2,2),pad=(1,1),num_filter=5,name='conv1')\n",
    "net = mx.sym.Activation(data = net,name='act_1',act_type='relu')\n",
    "net = mx.sym.Flatten(net)\n",
    "net1 = mx.sym.FullyConnected(data=net,num_hidden=2,name='fc1')\n",
    "output = mx.sym.SoftmaxOutput(data=net1,name='softmax1')\n"
   ]
  },
  {
   "cell_type": "code",
   "execution_count": 3,
   "metadata": {
    "collapsed": true
   },
   "outputs": [],
   "source": [
    "mod = mx.mod.Module(symbol=output,\n",
    "                    context = mx.gpu(),\n",
    "                    data_names=['data'],\n",
    "                    label_names=['softmax1_label'])"
   ]
  },
  {
   "cell_type": "code",
   "execution_count": 4,
   "metadata": {
    "collapsed": true
   },
   "outputs": [],
   "source": [
    "from gen_input import gen_input\n",
    "test_data_iter = gen_input('./input/test_data','test_image')\n",
    "test_data_iter.reset()\n",
    "test_data = test_data_iter.next()\n",
    "test_data_features = test_data.data[0]\n",
    "test_data_label=test_data.label[0]\n",
    "#这里可以继承Image.ImageIter，将其改造成mx.io.DataIter这个接口"
   ]
  },
  {
   "cell_type": "code",
   "execution_count": 5,
   "metadata": {
    "collapsed": true
   },
   "outputs": [],
   "source": [
    "#这个数据还不太好使，我换别的数据试试\n",
    "train_data_iter = gen_input('./input/train_data','train_image')\n",
    "train_data_iter.reset()\n",
    "train_data = train_data_iter.next()\n",
    "train_data_features = train_data.data[0]\n",
    "train_data_label=train_data.label[0]\n",
    "#这里可以继承Image.ImageIter，将其改造成mx.io.DataIter这个接口"
   ]
  },
  {
   "cell_type": "code",
   "execution_count": 6,
   "metadata": {
    "collapsed": true
   },
   "outputs": [],
   "source": [
    "#这个数据还不太好使，我换别的数据试试\n",
    "train_data_iter = gen_input('./input/train_data','train_image')\n",
    "train_data_iter.reset()\n",
    "train_data = train_data_iter.next()\n",
    "train_data_features = train_data.data[0]\n",
    "train_data_label=train_data.label[0]\n",
    "#这里可以继承Image.ImageIter，将其改造成mx.io.DataIter这个接口"
   ]
  },
  {
   "cell_type": "code",
   "execution_count": 7,
   "metadata": {
    "collapsed": true
   },
   "outputs": [],
   "source": [
    "#重新定义iter\n",
    "class Multi_iterator(mx.io.DataIter):\n",
    "    '''multi label  iterator'''\n",
    "\n",
    "    def __init__(self, data_iter):\n",
    "        super(Multi_iterator, self).__init__()\n",
    "        self.data_iter = data_iter\n",
    "        self.batch_size = self.data_iter.batch_size\n",
    "\n",
    "    @property\n",
    "    def provide_data(self):\n",
    "        return self.data_iter.provide_data\n",
    "\n",
    "    @property\n",
    "    def provide_label(self):\n",
    "        provide_label = self.data_iter.provide_label[0]\n",
    "        # Different labels should be used here for actual application\n",
    "        #return [('softmax1_label', provide_label[1]), \\\n",
    "        #        ('softmax2_label', provide_label[1])]\n",
    "        return [('softmax1_label',(provide_label[1][0],))]\n",
    "\n",
    "    def hard_reset(self):\n",
    "        self.data_iter.hard_reset()\n",
    "\n",
    "    def reset(self):\n",
    "        self.data_iter.reset()\n",
    "\n",
    "    def next(self):\n",
    "        batch = self.data_iter.next()\n",
    "        label = batch.label[0]\n",
    "\n",
    "        return mx.io.DataBatch(data=batch.data, label=[label[:,0]], \\\n",
    "                pad=batch.pad, index=batch.index)"
   ]
  },
  {
   "cell_type": "code",
   "execution_count": 8,
   "metadata": {
    "collapsed": true
   },
   "outputs": [],
   "source": [
    "train_iter = Multi_iterator(train_data_iter)\n",
    "test_iter = Multi_iterator(test_data_iter)"
   ]
  },
  {
   "cell_type": "code",
   "execution_count": 9,
   "metadata": {
    "collapsed": true
   },
   "outputs": [],
   "source": [
    "mod.bind(data_shapes=train_iter.provide_data,label_shapes=train_iter.provide_label)\n",
    "mod.init_params(initializer=mx.init.Uniform(scale=0.1))\n",
    "mod.init_optimizer(optimizer='sgd',optimizer_params=(('learning_rate',0.1),))"
   ]
  },
  {
   "cell_type": "code",
   "execution_count": 10,
   "metadata": {
    "collapsed": false
   },
   "outputs": [
    {
     "name": "stdout",
     "output_type": "stream",
     "text": [
      "epoch 0 train acc: ('accuracy', 0.50242477968399646)\n",
      "epoch 1 train acc: ('accuracy', 0.49757522031600354)\n",
      "epoch 2 train acc: ('accuracy', 0.50242477968399646)\n",
      "epoch 3 train acc: ('accuracy', 0.50242477968399646)\n",
      "epoch 4 train acc: ('accuracy', 0.50242477968399646)\n",
      "epoch 5 train acc: ('accuracy', 0.50242477968399646)\n",
      "epoch 6 train acc: ('accuracy', 0.50242477968399646)\n",
      "epoch 7 train acc: ('accuracy', 0.50242477968399646)\n",
      "epoch 8 train acc: ('accuracy', 0.50242477968399646)\n",
      "epoch 9 train acc: ('accuracy', 0.50242477968399646)\n"
     ]
    }
   ],
   "source": [
    "metric = mx.metric.create('acc')\n",
    "num_epoch = 10\n",
    "for epoch in range(num_epoch):\n",
    "    train_iter.reset()\n",
    "    metric.reset()\n",
    "    for batch in train_iter:\n",
    "        mod.forward(batch,is_train=True)\n",
    "        mod.update_metric(metric,batch.label)\n",
    "        mod.backward()\n",
    "        mod.update()\n",
    "    print('epoch %d train acc: %s' % (epoch,metric.get()))"
   ]
  },
  {
   "cell_type": "code",
   "execution_count": null,
   "metadata": {
    "collapsed": true
   },
   "outputs": [],
   "source": []
  }
 ],
 "metadata": {
  "kernelspec": {
   "display_name": "Python 3",
   "language": "python",
   "name": "python3"
  },
  "language_info": {
   "codemirror_mode": {
    "name": "ipython",
    "version": 3
   },
   "file_extension": ".py",
   "mimetype": "text/x-python",
   "name": "python",
   "nbconvert_exporter": "python",
   "pygments_lexer": "ipython3",
   "version": "3.6.0"
  }
 },
 "nbformat": 4,
 "nbformat_minor": 2
}
