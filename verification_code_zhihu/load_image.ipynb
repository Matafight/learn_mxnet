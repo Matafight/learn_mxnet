{
 "cells": [
  {
   "cell_type": "code",
   "execution_count": 103,
   "metadata": {
    "collapsed": true
   },
   "outputs": [],
   "source": [
    "import mxnet as mx\n",
    "from mxnet import image"
   ]
  },
  {
   "cell_type": "code",
   "execution_count": null,
   "metadata": {
    "collapsed": false
   },
   "outputs": [],
   "source": []
  },
  {
   "cell_type": "code",
   "execution_count": 104,
   "metadata": {
    "collapsed": false
   },
   "outputs": [
    {
     "data": {
      "text/plain": [
       "<matplotlib.image.AxesImage at 0x1cb2b9692b0>"
      ]
     },
     "execution_count": 104,
     "metadata": {},
     "output_type": "execute_result"
    },
    {
     "data": {
      "image/png": "[encoded data removed]",
      "text/plain": [
       "<matplotlib.figure.Figure at 0x1cb2b92c978>"
      ]
     },
     "metadata": {},
     "output_type": "display_data"
    }
   ],
   "source": [
    "\n",
    "#matplotlib inline\n",
    "import matplotlib.pyplot as plt\n",
    "img_decode= image.imdecode(open('./input/test_data/item0_.jpeg','rb').read())\n",
    "plt.imshow(img_decode.asnumpy())"
   ]
  },
  {
   "cell_type": "code",
   "execution_count": 105,
   "metadata": {
    "collapsed": false
   },
   "outputs": [],
   "source": [
    "import matplotlib.image as mpimg"
   ]
  },
  {
   "cell_type": "code",
   "execution_count": 106,
   "metadata": {
    "collapsed": false
   },
   "outputs": [
    {
     "name": "stdout",
     "output_type": "stream",
     "text": [
      "(28, 56, 3)\n"
     ]
    },
    {
     "data": {
      "image/png": "[encoded data removed]",
      "text/plain": [
       "<matplotlib.figure.Figure at 0x1cb2b7b1a90>"
      ]
     },
     "metadata": {},
     "output_type": "display_data"
    }
   ],
   "source": [
    "%matplotlib inline\n",
    "imnumpy = mpimg.imread('./input/test_data/item0_.jpeg')\n",
    "plt.imshow(imnumpy)\n",
    "print(imnumpy.shape)"
   ]
  },
  {
   "cell_type": "code",
   "execution_count": 107,
   "metadata": {
    "collapsed": false
   },
   "outputs": [],
   "source": [
    "#获取训练集目录下的所有文件名，从其中提取出label\n",
    "import os\n",
    "test_path = './input/test_data'\n",
    "\n",
    "test_files = os.listdir(test_path)\n",
    "\n",
    "    "
   ]
  },
  {
   "cell_type": "code",
   "execution_count": 108,
   "metadata": {
    "collapsed": true
   },
   "outputs": [],
   "source": [
    "def extract_label(name):\n",
    "    ret = name.split('.')[0].split('_')[1]\n",
    "    if(len(ret)==0):\n",
    "        return [0,0]\n",
    "    elif(len(ret)==2):\n",
    "        return [1,1]\n",
    "    elif(len(ret)==1 and ret=='0'):\n",
    "        return [1,0]\n",
    "    elif(len(ret)==1 and ret=='1'):\n",
    "        return [0,1]"
   ]
  },
  {
   "cell_type": "code",
   "execution_count": null,
   "metadata": {
    "collapsed": false
   },
   "outputs": [],
   "source": []
  },
  {
   "cell_type": "code",
   "execution_count": 154,
   "metadata": {
    "collapsed": false
   },
   "outputs": [],
   "source": [
    "for item in test_files[0:10]:\n",
    "    item_img = image.imdecode(open(test_path+'/'+item,'rb').read())\n",
    "    #print(item_img.shape)"
   ]
  },
  {
   "cell_type": "code",
   "execution_count": 111,
   "metadata": {
    "collapsed": false
   },
   "outputs": [],
   "source": [
    "#自己写一个生成path_imglist的函数。\n",
    "#index    labels    path\n",
    "def gen_imglist(path):\n",
    "    files = os.listdir(path)\n",
    "    indexes = len(files)\n",
    "    with open('image.lst','w') as fh:\n",
    "        for ind,file in enumerate(files):\n",
    "            line = str(ind)+'\\t'\n",
    "            label = extract_label(file)\n",
    "            line += str(label[0]) +'\\t'+str(label[1]) +'\\t'+ file+'\\n'\n",
    "            fh.write(line)\n",
    "            \n",
    "            \n",
    "gen_imglist('./input/test_data/')     "
   ]
  },
  {
   "cell_type": "code",
   "execution_count": 215,
   "metadata": {
    "collapsed": false
   },
   "outputs": [],
   "source": [
    "\n",
    "data_iter = image.ImageIter(batch_size=3,shuffle = True,data_shape=(3,28,56),label_width=2,path_imglist='./image.lst',path_root = './input/test_data/')"
   ]
  },
  {
   "cell_type": "code",
   "execution_count": 119,
   "metadata": {
    "collapsed": true
   },
   "outputs": [],
   "source": [
    "# 数据准备好了，构建神经网络并训练 怎么构建呢？很明显都是套路\n",
    "#1. 定义网络结构\n",
    "from mxnet import gluon\n",
    "from mxnet.gluon import nn\n",
    "def network():\n",
    "    base = nn.Sequential()\n",
    "    with base.name_scope():\n",
    "        #卷积层啊，输入图片是28 * 56\n",
    "        base.add(nn.Conv2D(channels=5,kernel_size=2,strides=2,padding=1,activation='relu'))\n",
    "        #output size 5 * 14 * 28\n",
    "        base.add(nn.Conv2D(channels=8,kernel_size=2,strides=2,padding=1,activation='relu'))\n",
    "        #output size 8* 7 *14\n",
    "        base.add(nn.Flatten())\n",
    "        #flatten\n",
    "        base.add(nn.Dense(2))\n",
    "    return base\n",
    "        \n",
    "        "
   ]
  },
  {
   "cell_type": "code",
   "execution_count": 120,
   "metadata": {
    "collapsed": false
   },
   "outputs": [],
   "source": [
    "net = network()"
   ]
  },
  {
   "cell_type": "code",
   "execution_count": null,
   "metadata": {
    "collapsed": false
   },
   "outputs": [],
   "source": [
    "from mxnet.gluon.model_zoo import vision\n",
    "alexnet = vision.alexnet(pretrained = True)"
   ]
  },
  {
   "cell_type": "code",
   "execution_count": 155,
   "metadata": {
    "collapsed": false
   },
   "outputs": [],
   "source": [
    "from mxnet import ndarray as F\n",
    "img_input = F.zeros((10,3,28,56))"
   ]
  },
  {
   "cell_type": "code",
   "execution_count": 156,
   "metadata": {
    "collapsed": false
   },
   "outputs": [
    {
     "name": "stderr",
     "output_type": "stream",
     "text": [
      "C:\\ProgramData\\Anaconda3\\lib\\site-packages\\mxnet-0.11.1-py3.6.egg\\mxnet\\gluon\\parameter.py:276: UserWarning: Parameter sequential2_conv0_weight is already initialized, ignoring. Set force_reinit=True to re-initialize.\n",
      "  \"Set force_reinit=True to re-initialize.\"%self.name)\n",
      "C:\\ProgramData\\Anaconda3\\lib\\site-packages\\mxnet-0.11.1-py3.6.egg\\mxnet\\gluon\\parameter.py:276: UserWarning: Parameter sequential2_conv0_bias is already initialized, ignoring. Set force_reinit=True to re-initialize.\n",
      "  \"Set force_reinit=True to re-initialize.\"%self.name)\n",
      "C:\\ProgramData\\Anaconda3\\lib\\site-packages\\mxnet-0.11.1-py3.6.egg\\mxnet\\gluon\\parameter.py:276: UserWarning: Parameter sequential2_conv1_weight is already initialized, ignoring. Set force_reinit=True to re-initialize.\n",
      "  \"Set force_reinit=True to re-initialize.\"%self.name)\n",
      "C:\\ProgramData\\Anaconda3\\lib\\site-packages\\mxnet-0.11.1-py3.6.egg\\mxnet\\gluon\\parameter.py:276: UserWarning: Parameter sequential2_conv1_bias is already initialized, ignoring. Set force_reinit=True to re-initialize.\n",
      "  \"Set force_reinit=True to re-initialize.\"%self.name)\n",
      "C:\\ProgramData\\Anaconda3\\lib\\site-packages\\mxnet-0.11.1-py3.6.egg\\mxnet\\gluon\\parameter.py:276: UserWarning: Parameter sequential2_dense0_weight is already initialized, ignoring. Set force_reinit=True to re-initialize.\n",
      "  \"Set force_reinit=True to re-initialize.\"%self.name)\n",
      "C:\\ProgramData\\Anaconda3\\lib\\site-packages\\mxnet-0.11.1-py3.6.egg\\mxnet\\gluon\\parameter.py:276: UserWarning: Parameter sequential2_dense0_bias is already initialized, ignoring. Set force_reinit=True to re-initialize.\n",
      "  \"Set force_reinit=True to re-initialize.\"%self.name)\n"
     ]
    }
   ],
   "source": [
    "#需要初始化 net的参数\n",
    "net.initialize()\n",
    "out = net(img_input)"
   ]
  },
  {
   "cell_type": "code",
   "execution_count": null,
   "metadata": {
    "collapsed": false
   },
   "outputs": [],
   "source": [
    "#下一步就是训练网络了，要先定义损失函数\n",
    "#每个样本有两个类\n"
   ]
  },
  {
   "cell_type": "code",
   "execution_count": 212,
   "metadata": {
    "collapsed": false
   },
   "outputs": [
    {
     "data": {
      "text/plain": [
       "\n",
       "[ 0.  0.  0.  0.  0.  0.  0.  0.  0.  0.]\n",
       "<NDArray 10 @cpu(0)>"
      ]
     },
     "execution_count": 212,
     "metadata": {},
     "output_type": "execute_result"
    }
   ],
   "source": [
    "out[:,1]"
   ]
  },
  {
   "cell_type": "code",
   "execution_count": 276,
   "metadata": {
    "collapsed": false
   },
   "outputs": [],
   "source": [
    "loss1 = gluon.loss.SigmoidBinaryCrossEntropyLoss()\n",
    "loss2 = gluon.loss.SigmoidBinaryCrossEntropyLoss()\n"
   ]
  },
  {
   "cell_type": "code",
   "execution_count": null,
   "metadata": {
    "collapsed": false
   },
   "outputs": [],
   "source": []
  },
  {
   "cell_type": "code",
   "execution_count": 277,
   "metadata": {
    "collapsed": false
   },
   "outputs": [],
   "source": [
    "data_iter.reset()\n",
    "a = data_iter.next()"
   ]
  },
  {
   "cell_type": "code",
   "execution_count": 282,
   "metadata": {
    "collapsed": false
   },
   "outputs": [],
   "source": [
    "#两部分loss应该独立计算，然后再加起来。\n",
    "from mxnet import autograd\n",
    "import numpy as np\n",
    "trainer = gluon.Trainer(net.collect_params(),'sgd',{'learning_rate':0.2})\n",
    "\n",
    "num_epoch=1\n",
    "for i in range(num_epoch):\n",
    "    train_loss = 0.0\n",
    "    train_acc = 0.0\n",
    "    data_iter.reset()\n",
    "    #batch_size = sample_size\n",
    "    data = data_iter.next()\n",
    "    features = data.data[0]\n",
    "    labels =data.label[0]\n",
    "    with autograd.record():\n",
    "        output = net(features)\n",
    "        loss1(output[:,0],labels[:,0])\n",
    "        loss2(output[:,1],labels[:,1])\n",
    "        #total_loss = loss1 + loss2\n",
    "  \n",
    "\n",
    "\n",
    "    \n",
    "    \n",
    "    "
   ]
  },
  {
   "cell_type": "code",
   "execution_count": 231,
   "metadata": {
    "collapsed": false
   },
   "outputs": [],
   "source": [
    "from mxnet import ndarray"
   ]
  },
  {
   "cell_type": "code",
   "execution_count": 237,
   "metadata": {
    "collapsed": false
   },
   "outputs": [],
   "source": [
    "a = data_iter.next()"
   ]
  },
  {
   "cell_type": "code",
   "execution_count": 256,
   "metadata": {
    "collapsed": false
   },
   "outputs": [],
   "source": [
    "data = a.data"
   ]
  },
  {
   "cell_type": "code",
   "execution_count": 242,
   "metadata": {
    "collapsed": false
   },
   "outputs": [],
   "source": [
    "data = np.array(data)"
   ]
  },
  {
   "cell_type": "code",
   "execution_count": 261,
   "metadata": {
    "collapsed": false
   },
   "outputs": [],
   "source": [
    "b = a.label"
   ]
  },
  {
   "cell_type": "code",
   "execution_count": 275,
   "metadata": {
    "collapsed": false
   },
   "outputs": [],
   "source": [
    "gluon.loss.SoftmaxCrossEntropyLoss??"
   ]
  },
  {
   "cell_type": "code",
   "execution_count": null,
   "metadata": {
    "collapsed": true
   },
   "outputs": [],
   "source": []
  }
 ],
 "metadata": {
  "kernelspec": {
   "display_name": "Python 3",
   "language": "python",
   "name": "python3"
  },
  "language_info": {
   "codemirror_mode": {
    "name": "ipython",
    "version": 3
   },
   "file_extension": ".py",
   "mimetype": "text/x-python",
   "name": "python",
   "nbconvert_exporter": "python",
   "pygments_lexer": "ipython3",
   "version": "3.6.0"
  }
 },
 "nbformat": 4,
 "nbformat_minor": 2
}
