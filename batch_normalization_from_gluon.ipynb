{
 "cells": [
  {
   "cell_type": "code",
   "execution_count": 1,
   "metadata": {
    "collapsed": true
   },
   "outputs": [],
   "source": [
    "#%%\n",
    "from mxnet import ndarray as nd\n",
    "from mxnet import autograd\n",
    "from mxnet import gluon\n",
    "import mxnet as mx\n",
    "import util\n",
    "import time\n",
    "batch_size = 20\n",
    "train_data,test_data =  util.load_data_fashion_mnist(batch_size)\n",
    "\n",
    "\n",
    "\n"
   ]
  },
  {
   "cell_type": "code",
   "execution_count": 4,
   "metadata": {
    "collapsed": false
   },
   "outputs": [
    {
     "name": "stdout",
     "output_type": "stream",
     "text": [
      "cpu(0)\n"
     ]
    }
   ],
   "source": [
    "from mxnet.gluon import nn\n",
    "\n",
    "net = nn.Sequential()\n",
    "with net.name_scope():\n",
    "    net.add(nn.Conv2D(channels = 20,kernel_size = 5))\n",
    "    net.add(nn.BatchNorm(axis = 1))\n",
    "    net.add(nn.Activation(activation = 'relu'))\n",
    "    net.add(nn.MaxPool2D(pool_size = 2,strides = 2))\n",
    "\n",
    "    net.add(nn.Conv2D(channels = 50,kernel_size = 3))\n",
    "    net.add(nn.BatchNorm(axis = 1))\n",
    "    net.add(nn.Activation(activation = 'relu'))\n",
    "    net.add(nn.MaxPool2D(pool_size = 2,strides = 2))\n",
    "\n",
    "    #dense \n",
    "    net.add(nn.Flatten())\n",
    "    net.add(nn.Dense(128,activation = 'relu'))\n",
    "    net.add(nn.Dense(10))\n",
    "\n",
    "\n",
    "try:\n",
    "    ctx = mx.gpu()\n",
    "    _ = nd.array([1],ctx = ctx)\n",
    "except:\n",
    "    ctx = mx.cpu()\n",
    "ctx = mx.cpu()\n",
    "print(ctx)\n",
    "\n",
    "\n",
    "#%%\n",
    "net.initialize(ctx= ctx)\n",
    "trainer = gluon.Trainer( net.collect_params(),'sgd',{'learning_rate':0.1})\n",
    "\n",
    "crossentropy_loss = gluon.loss.SoftmaxCrossEntropyLoss()\n"
   ]
  },
  {
   "cell_type": "code",
   "execution_count": null,
   "metadata": {
    "collapsed": false
   },
   "outputs": [
    {
     "name": "stdout",
     "output_type": "stream",
     "text": [
      "epoch: 0, train_loss:0.439933, train_acc:0.837017, test_acc:0.880700\n",
      "epoch: 1, train_loss:0.292427, train_acc:0.892467, test_acc:0.894000\n"
     ]
    }
   ],
   "source": [
    "epoches = 5\n",
    "learning_rate = 0.1\n",
    "start = time.clock()\n",
    "for epoch in range(epoches):\n",
    "    train_loss = 0.0\n",
    "    train_acc = 0.0\n",
    "    for data,label in train_data:\n",
    "        data = data.reshape((-1,1,28,28))\n",
    "        data = data.as_in_context(ctx)\n",
    "        label = label.as_in_context(ctx)\n",
    "        with autograd.record():\n",
    "            output = net(data)\n",
    "            loss = crossentropy_loss(output,label)\n",
    "        loss.backward()\n",
    "        trainer.step(batch_size)\n",
    "\n",
    "        train_loss += nd.mean(loss).asscalar()\n",
    "        train_acc += util.accuracy(output,label)\n",
    "    test_acc  = util.evaluate_accuracy(test_data,net,ctx)\n",
    "    print(\"epoch: %d, train_loss:%f, train_acc:%f, test_acc:%f\"%(epoch,train_loss/len(train_data),train_acc/len(train_data),test_acc))\n",
    "\n",
    "elapse = time.clock()-start\n",
    "print(\"elapsing time:%f\"%elapse)"
   ]
  },
  {
   "cell_type": "code",
   "execution_count": null,
   "metadata": {
    "collapsed": true
   },
   "outputs": [],
   "source": []
  }
 ],
 "metadata": {
  "kernelspec": {
   "display_name": "Python 3",
   "language": "python",
   "name": "python3"
  },
  "language_info": {
   "codemirror_mode": {
    "name": "ipython",
    "version": 3
   },
   "file_extension": ".py",
   "mimetype": "text/x-python",
   "name": "python",
   "nbconvert_exporter": "python",
   "pygments_lexer": "ipython3",
   "version": "3.6.0"
  }
 },
 "nbformat": 4,
 "nbformat_minor": 2
}
