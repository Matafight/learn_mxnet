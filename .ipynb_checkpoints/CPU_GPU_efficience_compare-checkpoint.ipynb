{
 "cells": [
  {
   "cell_type": "code",
   "execution_count": 1,
   "metadata": {
    "collapsed": true
   },
   "outputs": [],
   "source": [
    "from mxnet import ndarray as nd\n",
    "from mxnet import autograd\n",
    "from mxnet import gluon\n",
    "import util\n",
    "import time\n"
   ]
  },
  {
   "cell_type": "code",
   "execution_count": 2,
   "metadata": {
    "collapsed": true
   },
   "outputs": [],
   "source": [
    "batch_size = 256\n",
    "train_data,test_data =  util.load_data_fashion_mnist(batch_size)\n",
    "\n",
    "num_inputs = 28*28\n",
    "num_outputs = 10\n",
    "num_hiddens = 256\n",
    "\n",
    "net = gluon.nn.Sequential()\n",
    "\n",
    "with net.name_scope():\n",
    "    net.add(gluon.nn.Flatten())\n",
    "    net.add(gluon.nn.Dense(256,activation = 'relu'))\n",
    "    net.add(gluon.nn.Dense(10))\n",
    "net.initialize()\n",
    "\n",
    "\n"
   ]
  },
  {
   "cell_type": "code",
   "execution_count": 4,
   "metadata": {
    "collapsed": false
   },
   "outputs": [
    {
     "name": "stdout",
     "output_type": "stream",
     "text": [
      "epoch:0 , train_loss:0.340541, train_acc:0.875366, test_acc:0.875098\n",
      "epoch:1 , train_loss:0.324798, train_acc:0.880391, test_acc:0.879004\n",
      "epoch:2 , train_loss:0.315346, train_acc:0.883522, test_acc:0.880078\n",
      "epoch:3 , train_loss:0.303582, train_acc:0.887794, test_acc:0.888184\n",
      "epoch:4 , train_loss:0.297231, train_acc:0.890354, test_acc:0.880176\n",
      "58.54763694731686\n"
     ]
    }
   ],
   "source": [
    "softmax_cross_entropy = gluon.loss.SoftmaxCrossEntropyLoss()\n",
    "\n",
    "trainer = gluon.Trainer(net.collect_params(),'sgd',{'learning_rate':0.5})\n",
    "\n",
    "epoches = 5\n",
    "start = time.clock()\n",
    "for epoch in range(epoches):\n",
    "    train_loss = 0\n",
    "    train_acc = 0\n",
    "    for data,label in train_data:\n",
    "        with autograd.record():\n",
    "            output = net(data)\n",
    "            loss = softmax_cross_entropy(output,label)\n",
    "        loss.backward()\n",
    "        trainer.step(batch_size)\n",
    "        train_loss += nd.mean(loss).asscalar()\n",
    "        train_acc += util.accuracy(output,label)\n",
    "    test_acc = util.evaluate_accuracy(test_data,net)\n",
    "    print(\"epoch:%d , train_loss:%f, train_acc:%f, test_acc:%f\"%(epoch,train_loss/len(train_data),train_acc/len(train_data),test_acc))\n",
    "    \n",
    "    \n",
    "    \n",
    "elapse = time.clock()-start\n",
    "print(elapse)"
   ]
  },
  {
   "cell_type": "code",
   "execution_count": 6,
   "metadata": {
    "collapsed": true
   },
   "outputs": [],
   "source": [
    "\n",
    "import mxnet as mx\n",
    "ctx = mx.gpu()"
   ]
  },
  {
   "cell_type": "code",
   "execution_count": 7,
   "metadata": {
    "collapsed": true
   },
   "outputs": [],
   "source": [
    "batch_size = 256\n",
    "train_data,test_data =  util.load_data_fashion_mnist(batch_size)\n",
    "\n",
    "num_inputs = 28*28\n",
    "num_outputs = 10\n",
    "num_hiddens = 256\n",
    "\n",
    "net = gluon.nn.Sequential()\n",
    "\n",
    "with net.name_scope():\n",
    "    net.add(gluon.nn.Flatten())\n",
    "    net.add(gluon.nn.Dense(256,activation = 'relu'))\n",
    "    net.add(gluon.nn.Dense(10))\n",
    "net.initialize(ctx=ctx)\n"
   ]
  },
  {
   "cell_type": "code",
   "execution_count": 9,
   "metadata": {
    "collapsed": false
   },
   "outputs": [
    {
     "ename": "TypeError",
     "evalue": "__call__() got an unexpected keyword argument 'ctx'",
     "output_type": "error",
     "traceback": [
      "\u001b[0;31m---------------------------------------------------------------------------\u001b[0m",
      "\u001b[0;31mTypeError\u001b[0m                                 Traceback (most recent call last)",
      "\u001b[0;32m<ipython-input-9-ef3945759c60>\u001b[0m in \u001b[0;36m<module>\u001b[0;34m()\u001b[0m\n\u001b[1;32m     10\u001b[0m     \u001b[1;32mfor\u001b[0m \u001b[0mdata\u001b[0m\u001b[1;33m,\u001b[0m\u001b[0mlabel\u001b[0m \u001b[1;32min\u001b[0m \u001b[0mtrain_data\u001b[0m\u001b[1;33m:\u001b[0m\u001b[1;33m\u001b[0m\u001b[0m\n\u001b[1;32m     11\u001b[0m         \u001b[1;32mwith\u001b[0m \u001b[0mautograd\u001b[0m\u001b[1;33m.\u001b[0m\u001b[0mrecord\u001b[0m\u001b[1;33m(\u001b[0m\u001b[1;33m)\u001b[0m\u001b[1;33m:\u001b[0m\u001b[1;33m\u001b[0m\u001b[0m\n\u001b[0;32m---> 12\u001b[0;31m             \u001b[0moutput\u001b[0m \u001b[1;33m=\u001b[0m \u001b[0mnet\u001b[0m\u001b[1;33m(\u001b[0m\u001b[0mdata\u001b[0m\u001b[1;33m,\u001b[0m\u001b[0mctx\u001b[0m\u001b[1;33m=\u001b[0m \u001b[0mctx\u001b[0m\u001b[1;33m)\u001b[0m\u001b[1;33m\u001b[0m\u001b[0m\n\u001b[0m\u001b[1;32m     13\u001b[0m             \u001b[0mloss\u001b[0m \u001b[1;33m=\u001b[0m \u001b[0msoftmax_cross_entropy\u001b[0m\u001b[1;33m(\u001b[0m\u001b[0moutput\u001b[0m\u001b[1;33m,\u001b[0m\u001b[0mlabel\u001b[0m\u001b[1;33m)\u001b[0m\u001b[1;33m\u001b[0m\u001b[0m\n\u001b[1;32m     14\u001b[0m         \u001b[0mloss\u001b[0m\u001b[1;33m.\u001b[0m\u001b[0mbackward\u001b[0m\u001b[1;33m(\u001b[0m\u001b[1;33m)\u001b[0m\u001b[1;33m\u001b[0m\u001b[0m\n",
      "\u001b[0;31mTypeError\u001b[0m: __call__() got an unexpected keyword argument 'ctx'"
     ]
    }
   ],
   "source": [
    "oftmax_cross_entropy = gluon.loss.SoftmaxCrossEntropyLoss()\n",
    "\n",
    "trainer = gluon.Trainer(net.collect_params(),'sgd',{'learning_rate':0.5})\n",
    "\n",
    "epoches = 5\n",
    "start = time.clock()\n",
    "for epoch in range(epoches):\n",
    "    train_loss = 0\n",
    "    train_acc = 0\n",
    "    for data,label in train_data:\n",
    "        with autograd.record():\n",
    "            output = net(data)\n",
    "            loss = softmax_cross_entropy(output,label)\n",
    "        loss.backward()\n",
    "        trainer.step(batch_size)\n",
    "        train_loss += nd.mean(loss).asscalar()\n",
    "        train_acc += util.accuracy(output,label)\n",
    "    test_acc = util.evaluate_accuracy(test_data,net)\n",
    "    print(\"epoch:%d , train_loss:%f, train_acc:%f, test_acc:%f\"%(epoch,train_loss/len(train_data),train_acc/len(train_data),test_acc))\n",
    "    \n",
    "    \n",
    "    \n",
    "elapse = time.clock()-start\n",
    "print(elapse)"
   ]
  },
  {
   "cell_type": "code",
   "execution_count": null,
   "metadata": {
    "collapsed": true
   },
   "outputs": [],
   "source": []
  }
 ],
 "metadata": {
  "kernelspec": {
   "display_name": "Python 3",
   "language": "python",
   "name": "python3"
  },
  "language_info": {
   "codemirror_mode": {
    "name": "ipython",
    "version": 3
   },
   "file_extension": ".py",
   "mimetype": "text/x-python",
   "name": "python",
   "nbconvert_exporter": "python",
   "pygments_lexer": "ipython3",
   "version": "3.6.0"
  }
 },
 "nbformat": 4,
 "nbformat_minor": 2
}
